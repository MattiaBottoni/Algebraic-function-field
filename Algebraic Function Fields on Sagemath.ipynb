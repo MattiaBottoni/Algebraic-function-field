{
 "cells": [
  {
   "cell_type": "markdown",
   "metadata": {},
   "source": [
    "# Algebraic Function Fields with Sagemath\n",
    "\n",
    "\n",
    "**Summary**:\n",
    "* How to work with Sagemath on Jupyter\n",
    "* Create elliptic, hyperelliptic or hermitian function fields \n",
    "* Get the genus $g$ of a function field\n",
    "* Get the set of rational places\n",
    "* Get the set of places of $deg(d)$\n",
    "* Build or find Divisors and compute RR spaces\n",
    "* Compute canonical Divisors\n",
    "* Residual class field and Residue class map"
   ]
  },
  {
   "cell_type": "markdown",
   "metadata": {},
   "source": [
    "**Sources**: Lectures of MAT007 Introductions in computer algebra and mathematical programming taught by Dr. Johannes Schmitt in SS22 and [Sagemath Wikipedia page](https://doc.sagemath.org/html/en)"
   ]
  },
  {
   "cell_type": "markdown",
   "metadata": {},
   "source": [
    "## How to work with Sagemath on Jupyter"
   ]
  },
  {
   "cell_type": "markdown",
   "metadata": {},
   "source": [
    "There are two types of **cells**:\n",
    "* **Code** cells\n",
    "* **Markdown** cells"
   ]
  },
  {
   "cell_type": "markdown",
   "metadata": {},
   "source": [
    "**Code** cells are used to write, calculate or compute some code. They look like this:"
   ]
  },
  {
   "cell_type": "code",
   "execution_count": null,
   "metadata": {},
   "outputs": [],
   "source": [
    "2+4"
   ]
  },
  {
   "cell_type": "markdown",
   "metadata": {},
   "source": [
    "**Markdown** cells are used to make comments in your Sagemath file. They look like this:"
   ]
  },
  {
   "cell_type": "markdown",
   "metadata": {},
   "source": [
    "Hello world"
   ]
  },
  {
   "cell_type": "markdown",
   "metadata": {},
   "source": [
    "In general keep in mind: Everything that you don't know how it works, can be googled!"
   ]
  },
  {
   "cell_type": "markdown",
   "metadata": {},
   "source": [
    "## Create elliptic, hyperelliptic or hermitian function fields"
   ]
  },
  {
   "cell_type": "markdown",
   "metadata": {},
   "source": [
    "To create such a finite field extenstion, we first have to compute the rational function field $K(x)$:"
   ]
  },
  {
   "cell_type": "code",
   "execution_count": null,
   "metadata": {},
   "outputs": [],
   "source": [
    "#we define a Galois extension over the finite field F5 with the command GF(25) with primitive element a\n",
    "G.<a> = GF(25)\n",
    "#next we define a functionfield over G in x and make it a polynomial ring with variable T\n",
    "K.<x> = FunctionField(G); _.<T> = K[]\n",
    "\n",
    "K"
   ]
  },
  {
   "cell_type": "markdown",
   "metadata": {},
   "source": [
    "Now we want to compute an elliptic, a hyperelliptic and a hermitian function field. Later we will check that those are indeed what we want them to be."
   ]
  },
  {
   "cell_type": "code",
   "execution_count": null,
   "metadata": {},
   "outputs": [],
   "source": [
    "#now we extend K with the extension given in the brackets in y and give again a variable Y\n",
    "E.<y> = K.extension(T^2-(x^3-x)); _.<Y> = E[]\n",
    "E"
   ]
  },
  {
   "cell_type": "code",
   "execution_count": null,
   "metadata": {},
   "outputs": [],
   "source": [
    "H.<z> = K.extension(T^2-x^5 - 3*x^4 - 2*x^3 + 6*x^2 + 3*x - 1); _.<Z> = H[]\n",
    "H"
   ]
  },
  {
   "cell_type": "code",
   "execution_count": null,
   "metadata": {},
   "outputs": [],
   "source": [
    "Her.<f> = K.extension(T^5 + T - x^6); _.<f> = Her[]\n",
    "Her"
   ]
  },
  {
   "cell_type": "markdown",
   "metadata": {},
   "source": [
    "## Get the genus $g$ of a function field"
   ]
  },
  {
   "cell_type": "markdown",
   "metadata": {},
   "source": [
    "The genus $g$ can easily be found by the following function:"
   ]
  },
  {
   "cell_type": "code",
   "execution_count": null,
   "metadata": {
    "scrolled": true
   },
   "outputs": [],
   "source": [
    "g_K = K.genus()\n",
    "g_K"
   ]
  },
  {
   "cell_type": "markdown",
   "metadata": {},
   "source": [
    "When you don't know how a function works, what inputs to give etc., you can just type what you think the function would be called, and add two questionmarks, like this:"
   ]
  },
  {
   "cell_type": "code",
   "execution_count": null,
   "metadata": {},
   "outputs": [],
   "source": [
    "K.genus??"
   ]
  },
  {
   "cell_type": "markdown",
   "metadata": {},
   "source": [
    "From now on I won't comment on the code. If something is unclear, use the ?? command."
   ]
  },
  {
   "cell_type": "code",
   "execution_count": null,
   "metadata": {},
   "outputs": [],
   "source": [
    "g_E = E.genus()\n",
    "g_E"
   ]
  },
  {
   "cell_type": "code",
   "execution_count": null,
   "metadata": {},
   "outputs": [],
   "source": [
    "g_H = H.genus()\n",
    "g_H"
   ]
  },
  {
   "cell_type": "code",
   "execution_count": null,
   "metadata": {},
   "outputs": [],
   "source": [
    "g_Her = Her.genus()\n",
    "g_Her"
   ]
  },
  {
   "cell_type": "markdown",
   "metadata": {},
   "source": [
    "## Get the set of rational places"
   ]
  },
  {
   "cell_type": "markdown",
   "metadata": {},
   "source": [
    "Rational places are places of degree 1. We find them with:"
   ]
  },
  {
   "cell_type": "code",
   "execution_count": null,
   "metadata": {
    "scrolled": true
   },
   "outputs": [],
   "source": [
    "P_K = K.places(1)\n",
    "print(P_K)\n",
    "print(len(P_K))"
   ]
  },
  {
   "cell_type": "code",
   "execution_count": null,
   "metadata": {
    "scrolled": true
   },
   "outputs": [],
   "source": [
    "P_E = E.places(1)\n",
    "print(P_E)\n",
    "print(len(P_E))"
   ]
  },
  {
   "cell_type": "markdown",
   "metadata": {},
   "source": [
    "Rational places of $E$ satisfy the extension equation $y^2 = x^3-x$:"
   ]
  },
  {
   "cell_type": "code",
   "execution_count": null,
   "metadata": {
    "scrolled": true
   },
   "outputs": [],
   "source": [
    "#for example we take the 4th element in the list of rational places of the elliptic function field\n",
    "P_E[4]\n"
   ]
  },
  {
   "cell_type": "code",
   "execution_count": null,
   "metadata": {},
   "outputs": [],
   "source": [
    "#here we check that the equation is satisfied\n",
    "x0 = -(a+3)\n",
    "y0 = -(2*a+3)\n",
    "y0^2 == x0^3-x0\n"
   ]
  },
  {
   "cell_type": "markdown",
   "metadata": {},
   "source": [
    "Let us also computed the rational places of $H$ and $Her$ and see how many we have."
   ]
  },
  {
   "cell_type": "code",
   "execution_count": null,
   "metadata": {},
   "outputs": [],
   "source": [
    "P_H = H.places(1)\n",
    "print(P_H)\n",
    "print(len(P_H))"
   ]
  },
  {
   "cell_type": "markdown",
   "metadata": {},
   "source": [
    "Also for $H$ the rational places satisfy the extension equation $z^2 = x^5 + 3x^4 + 2x^3 - 6x^2 - 3x + 1$:"
   ]
  },
  {
   "cell_type": "code",
   "execution_count": null,
   "metadata": {},
   "outputs": [],
   "source": [
    "P_H[12]"
   ]
  },
  {
   "cell_type": "code",
   "execution_count": null,
   "metadata": {},
   "outputs": [],
   "source": [
    "x0 = -(4*a+4)\n",
    "z0 = -(3*a+3)\n",
    "z0^2 == x0^5 + 3*x0^4 + 2*x0^3 - 6*x0^2 - 3*x0 + 1"
   ]
  },
  {
   "cell_type": "code",
   "execution_count": null,
   "metadata": {},
   "outputs": [],
   "source": [
    "P_Her = Her.places(1)\n",
    "print(P_Her)\n",
    "print(len(P_Her))"
   ]
  },
  {
   "cell_type": "markdown",
   "metadata": {},
   "source": [
    "## Get the set of places of $deg (d)$"
   ]
  },
  {
   "cell_type": "markdown",
   "metadata": {},
   "source": [
    "Once we know how to compute the rational places, it is very easy to find the ones with degree $d$:"
   ]
  },
  {
   "cell_type": "code",
   "execution_count": null,
   "metadata": {},
   "outputs": [],
   "source": [
    "d = 2\n",
    "P_2_K = K.places(d)\n",
    "print(P_2_K, len(P_2_K))"
   ]
  },
  {
   "cell_type": "markdown",
   "metadata": {},
   "source": [
    "## Build or find Divisors and compute RR spaces"
   ]
  },
  {
   "cell_type": "markdown",
   "metadata": {},
   "source": [
    "Let us first build a divisor that surely satisfies Riemann's Theorem i.e. $\\deg (D) > 2g-2 $ and directly compute its RR-space:"
   ]
  },
  {
   "cell_type": "code",
   "execution_count": null,
   "metadata": {},
   "outputs": [],
   "source": [
    "#this divisor d is made out of 3 times the 4th rational place of E and 4 times the 6th rational place\n",
    "d = 3*P_E[4]+4*P_E[6] \n",
    "RR_d = d.basis_function_space()\n",
    "RR_d"
   ]
  },
  {
   "cell_type": "markdown",
   "metadata": {},
   "source": [
    "Let us check, that the degree of $d$ is large enough."
   ]
  },
  {
   "cell_type": "code",
   "execution_count": null,
   "metadata": {},
   "outputs": [],
   "source": [
    "d.degree()"
   ]
  },
  {
   "cell_type": "markdown",
   "metadata": {},
   "source": [
    "Now let us check, that Riemann's relation really holds:"
   ]
  },
  {
   "cell_type": "code",
   "execution_count": null,
   "metadata": {
    "scrolled": true
   },
   "outputs": [],
   "source": [
    "len(RR_d) == d.degree() + 1 - g_E"
   ]
  },
  {
   "cell_type": "markdown",
   "metadata": {},
   "source": [
    "Next we will see, that a divisor can be computed directly given an element of e.g. $K(x)$."
   ]
  },
  {
   "cell_type": "code",
   "execution_count": null,
   "metadata": {},
   "outputs": [],
   "source": [
    "w = ((x-8)^2*(x-5)*(x+3))/((x+1)*x*(x-6)^4)\n",
    "D = w.divisor()\n",
    "D"
   ]
  },
  {
   "cell_type": "code",
   "execution_count": null,
   "metadata": {},
   "outputs": [],
   "source": [
    "RR_D = D.basis_function_space()\n",
    "RR_D"
   ]
  },
  {
   "cell_type": "markdown",
   "metadata": {},
   "source": [
    "Again we have Riemann's Theorem:"
   ]
  },
  {
   "cell_type": "code",
   "execution_count": null,
   "metadata": {},
   "outputs": [],
   "source": [
    "len(RR_D) == D.degree() + 1 - g_K"
   ]
  },
  {
   "cell_type": "code",
   "execution_count": null,
   "metadata": {},
   "outputs": [],
   "source": [
    "v = ((x+3)^5*(x+2)^8*(z+4)^16)/(z*x^7*(x+1)^6)\n",
    "v"
   ]
  },
  {
   "cell_type": "code",
   "execution_count": null,
   "metadata": {
    "scrolled": false
   },
   "outputs": [],
   "source": [
    "vD = v.divisor()\n",
    "vD"
   ]
  },
  {
   "cell_type": "code",
   "execution_count": null,
   "metadata": {},
   "outputs": [],
   "source": [
    "vD.degree()"
   ]
  },
  {
   "cell_type": "markdown",
   "metadata": {},
   "source": [
    "Since the degree of this divisor is not sufficiently large, we will only have the inequality given by Riemann-Roch Theorem. However SageMath still allows us to compute its dimension:"
   ]
  },
  {
   "cell_type": "code",
   "execution_count": null,
   "metadata": {},
   "outputs": [],
   "source": [
    "RR_vD = vD.basis_function_space()\n",
    "len(RR_vD)"
   ]
  },
  {
   "cell_type": "code",
   "execution_count": null,
   "metadata": {},
   "outputs": [],
   "source": [
    "len(RR_vD) >= vD.degree()+1-g_H"
   ]
  },
  {
   "cell_type": "markdown",
   "metadata": {},
   "source": [
    "## Compute canonical Divisors"
   ]
  },
  {
   "cell_type": "markdown",
   "metadata": {},
   "source": [
    "Canonical divisors have $\\deg(D) = 2g-2$ and $\\dim(D) = g$. We will do this over $H$."
   ]
  },
  {
   "cell_type": "code",
   "execution_count": null,
   "metadata": {},
   "outputs": [],
   "source": [
    "D_canonical  = 1*P_H[1]+1*P_H[2]\n",
    "D_canonical"
   ]
  },
  {
   "cell_type": "code",
   "execution_count": null,
   "metadata": {},
   "outputs": [],
   "source": [
    "D_canonical.degree()"
   ]
  },
  {
   "cell_type": "code",
   "execution_count": null,
   "metadata": {},
   "outputs": [],
   "source": [
    "D_canonical.dimension()"
   ]
  },
  {
   "cell_type": "markdown",
   "metadata": {},
   "source": [
    "Let us test, that this divisor is indeed canonical:"
   ]
  },
  {
   "cell_type": "code",
   "execution_count": null,
   "metadata": {},
   "outputs": [],
   "source": [
    "D_canonical.degree() == 2*g_H-2 and D_canonical.dimension() == g_H"
   ]
  },
  {
   "cell_type": "markdown",
   "metadata": {},
   "source": [
    "Show that the Riemann's Theorem is not given:"
   ]
  },
  {
   "cell_type": "code",
   "execution_count": null,
   "metadata": {
    "scrolled": true
   },
   "outputs": [],
   "source": [
    "RR_canonical = D_canonical.basis_function_space()\n",
    "RR_canonical"
   ]
  },
  {
   "cell_type": "code",
   "execution_count": null,
   "metadata": {},
   "outputs": [],
   "source": [
    "len(RR_canonical) == D_canonical.degree() + 1 - g_H"
   ]
  },
  {
   "cell_type": "markdown",
   "metadata": {},
   "source": [
    "## Residue class field and Residue class map"
   ]
  },
  {
   "cell_type": "markdown",
   "metadata": {},
   "source": [
    "Unfortunately we cannot compute the residue class field and map as explicitly as for example the set of rational places. We can still do computations with it."
   ]
  },
  {
   "cell_type": "code",
   "execution_count": null,
   "metadata": {},
   "outputs": [],
   "source": [
    "#for example let us take the 5th element from the set of rational places of the elliptic field\n",
    "p = P_E[5]\n",
    "p"
   ]
  },
  {
   "cell_type": "markdown",
   "metadata": {},
   "source": [
    "This next command will give us the residue class field $RF$ and the two directions of the residue class map fr_RF (from $RF$) and to_RF (to $RF$)."
   ]
  },
  {
   "cell_type": "code",
   "execution_count": 1,
   "metadata": {
    "scrolled": true
   },
   "outputs": [
    {
     "ename": "AttributeError",
     "evalue": "'function' object has no attribute 'residue_field'",
     "output_type": "error",
     "traceback": [
      "\u001b[0;31m---------------------------------------------------------------------------\u001b[0m",
      "\u001b[0;31mAttributeError\u001b[0m                            Traceback (most recent call last)",
      "\u001b[0;32m<ipython-input-1-3221d992ba99>\u001b[0m in \u001b[0;36m<module>\u001b[0;34m\u001b[0m\n\u001b[0;32m----> 1\u001b[0;31m \u001b[0mRF\u001b[0m\u001b[0;34m,\u001b[0m \u001b[0mfr_RF\u001b[0m\u001b[0;34m,\u001b[0m \u001b[0mto_RF\u001b[0m \u001b[0;34m=\u001b[0m \u001b[0mE\u001b[0m\u001b[0;34m.\u001b[0m\u001b[0mresidue_field\u001b[0m\u001b[0;34m(\u001b[0m\u001b[0mp\u001b[0m\u001b[0;34m)\u001b[0m\u001b[0;34m\u001b[0m\u001b[0;34m\u001b[0m\u001b[0m\n\u001b[0m\u001b[1;32m      2\u001b[0m \u001b[0mprint\u001b[0m\u001b[0;34m(\u001b[0m\u001b[0;34m\"{} {}\"\u001b[0m\u001b[0;34m.\u001b[0m\u001b[0mformat\u001b[0m\u001b[0;34m(\u001b[0m\u001b[0;34m\"RF\"\u001b[0m\u001b[0;34m,\u001b[0m \u001b[0mRF\u001b[0m\u001b[0;34m)\u001b[0m\u001b[0;34m,\u001b[0m\u001b[0mE\u001b[0m\u001b[0;34m.\u001b[0m\u001b[0mresidue_field\u001b[0m\u001b[0;34m(\u001b[0m\u001b[0mp\u001b[0m\u001b[0;34m)\u001b[0m\u001b[0;34m)\u001b[0m\u001b[0;34m\u001b[0m\u001b[0;34m\u001b[0m\u001b[0m\n",
      "\u001b[0;31mAttributeError\u001b[0m: 'function' object has no attribute 'residue_field'"
     ]
    }
   ],
   "source": [
    "RF, fr_RF, to_RF = E.residue_field(p)\n",
    "print(\"{} {}\".format(\"RF\", RF),E.residue_field(p))"
   ]
  },
  {
   "cell_type": "code",
   "execution_count": null,
   "metadata": {},
   "outputs": [],
   "source": [
    "RF\n"
   ]
  },
  {
   "cell_type": "code",
   "execution_count": null,
   "metadata": {},
   "outputs": [],
   "source": [
    "fr_RF"
   ]
  },
  {
   "cell_type": "code",
   "execution_count": null,
   "metadata": {},
   "outputs": [],
   "source": [
    "to_RF"
   ]
  },
  {
   "cell_type": "markdown",
   "metadata": {},
   "source": [
    "Let us take a random element for $E$ and compute its image and preimage under the residue class map."
   ]
  },
  {
   "cell_type": "code",
   "execution_count": null,
   "metadata": {},
   "outputs": [],
   "source": [
    "h = E.random_element()\n",
    "h"
   ]
  },
  {
   "cell_type": "code",
   "execution_count": null,
   "metadata": {},
   "outputs": [],
   "source": [
    "to_RF(h)"
   ]
  },
  {
   "cell_type": "code",
   "execution_count": null,
   "metadata": {},
   "outputs": [],
   "source": [
    "[fr_RF(e) for e in RF]"
   ]
  },
  {
   "cell_type": "markdown",
   "metadata": {},
   "source": [
    "I hope this notebook will help some of you when working with algebraic function fields on SageMath. If you want to learn more about the applications of SageMath, I really recommend you to visit the course MAT007 Introductions in computer algebra and mathematical programming!"
   ]
  }
 ],
 "metadata": {
  "kernelspec": {
   "display_name": "SageMath 9.3",
   "language": "sage",
   "name": "sagemath"
  },
  "language_info": {
   "codemirror_mode": {
    "name": "ipython",
    "version": 3
   },
   "file_extension": ".py",
   "mimetype": "text/x-python",
   "name": "python",
   "nbconvert_exporter": "python",
   "pygments_lexer": "ipython3",
   "version": "3.7.10"
  }
 },
 "nbformat": 4,
 "nbformat_minor": 4
}
